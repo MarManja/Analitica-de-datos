{
  "nbformat": 4,
  "nbformat_minor": 0,
  "metadata": {
    "colab": {
      "provenance": [],
      "authorship_tag": "ABX9TyOuNtxGsn49E2HM9rQjbNgm",
      "include_colab_link": true
    },
    "kernelspec": {
      "name": "python3",
      "display_name": "Python 3"
    },
    "language_info": {
      "name": "python"
    }
  },
  "cells": [
    {
      "cell_type": "markdown",
      "metadata": {
        "id": "view-in-github",
        "colab_type": "text"
      },
      "source": [
        "<a href=\"https://colab.research.google.com/github/MarManja/Analitica-de-datos/blob/main/1_Extracci%C3%B3n_de_datos.ipynb\" target=\"_parent\"><img src=\"https://colab.research.google.com/assets/colab-badge.svg\" alt=\"Open In Colab\"/></a>"
      ]
    },
    {
      "cell_type": "code",
      "execution_count": 1,
      "metadata": {
        "id": "RCCb8T3ZmTxB"
      },
      "outputs": [],
      "source": [
        "#Importamos librerías requeridas\n",
        "import pandas as pd\n",
        "import numpy as np\n",
        "import matplotlib.pyplot as plt\n",
        "import seaborn as sns"
      ]
    },
    {
      "cell_type": "code",
      "source": [
        "#Cargar archivo csv desde el equipo\n",
        "from google.colab import files\n",
        "files.upload()"
      ],
      "metadata": {
        "id": "S2XBULh68bsb"
      },
      "execution_count": null,
      "outputs": []
    },
    {
      "cell_type": "code",
      "source": [
        "#Convertir en detaframe\n",
        "df=pd.read_csv(\"file.csv\")\n",
        "#df"
      ],
      "metadata": {
        "id": "ECvk4F_f9YPb"
      },
      "execution_count": 4,
      "outputs": []
    },
    {
      "cell_type": "code",
      "source": [
        "#Imprimimos las primeras filas o registros del Dataframe\n",
        "df.head(5)"
      ],
      "metadata": {
        "id": "-VARXVaT9rEQ"
      },
      "execution_count": null,
      "outputs": []
    },
    {
      "cell_type": "markdown",
      "source": [
        "**FILTROS BÁSICOS PARA VARIABLES CUALITATIVAS**\n"
      ],
      "metadata": {
        "id": "RTZK9TD--Mjy"
      }
    },
    {
      "cell_type": "code",
      "source": [
        "#Filtro por objeto\n",
        "filtro1=df[df[\"Sexo\"]==\"Mujeres\"]\n",
        "filtro1"
      ],
      "metadata": {
        "id": "K4FaI37N-fgt"
      },
      "execution_count": null,
      "outputs": []
    },
    {
      "cell_type": "code",
      "source": [
        "#Filtro por filas\n",
        "#filtro2=df.iloc[300:302,:] filas consecutivas\n",
        "filtro2=df.iloc[[1000,2000,3000],:] #filas no consecutivas\n",
        "filtro2"
      ],
      "metadata": {
        "id": "KhQOedsj_F3U"
      },
      "execution_count": null,
      "outputs": []
    },
    {
      "cell_type": "code",
      "source": [
        "#Filtro por columnas\n",
        "filtro3=df.iloc[:,4:7] #columnas consecutivas\n",
        "#filtro3=df.iloc[:,[1,4,6]] columnas no consecutivas\n",
        "filtro3"
      ],
      "metadata": {
        "id": "gSi2Sxf8AA2t"
      },
      "execution_count": null,
      "outputs": []
    },
    {
      "cell_type": "code",
      "source": [
        "df=pd.read_csv(\"file.csv\",index_col=2)\n",
        "df"
      ],
      "metadata": {
        "colab": {
          "base_uri": "https://localhost:8080/",
          "height": 472
        },
        "id": "py7mwLSLAnwl",
        "outputId": "1c54d493-4027-4a6d-8fc9-a66b0c3cab69"
      },
      "execution_count": 13,
      "outputs": [
        {
          "output_type": "execute_result",
          "data": {
            "text/plain": [
              "                    Periodo  Trimestre     Sexo  \\\n",
              "Entidad_Federativa                                \n",
              "Nacional               2005          1  Hombres   \n",
              "Nacional               2005          1  Mujeres   \n",
              "Aguascalientes         2005          1  Hombres   \n",
              "Aguascalientes         2005          1  Mujeres   \n",
              "Baja California        2005          1  Hombres   \n",
              "...                     ...        ...      ...   \n",
              "Veracruz               2022          1  Mujeres   \n",
              "Yucat n                2022          1  Hombres   \n",
              "Yucat n                2022          1  Mujeres   \n",
              "Zacatecas              2022          1  Hombres   \n",
              "Zacatecas              2022          1  Mujeres   \n",
              "\n",
              "                   Poblacion_ocupada_en_la_industria_manufacturera  \\\n",
              "Entidad_Federativa                                                   \n",
              "Nacional                                                   4384907   \n",
              "Nacional                                                   2690296   \n",
              "Aguascalientes                                               56407   \n",
              "Aguascalientes                                               28430   \n",
              "Baja California                                             167651   \n",
              "...                                                            ...   \n",
              "Veracruz                                                    107640   \n",
              "Yucat n                                                     101992   \n",
              "Yucat n                                                      82759   \n",
              "Zacatecas                                                    44105   \n",
              "Zacatecas                                                    39472   \n",
              "\n",
              "                   Poblaci n_ocupada  \\\n",
              "Entidad_Federativa                     \n",
              "Nacional                    26597801   \n",
              "Nacional                    14843275   \n",
              "Aguascalientes                246177   \n",
              "Aguascalientes                145656   \n",
              "Baja California               768989   \n",
              "...                              ...   \n",
              "Veracruz                     1190733   \n",
              "Yucat n                       691397   \n",
              "Yucat n                       478943   \n",
              "Zacatecas                     402326   \n",
              "Zacatecas                     255761   \n",
              "\n",
              "                   Tasa_de_ocupaci n_en_la_industria_manufacturera  \n",
              "Entidad_Federativa                                                  \n",
              "Nacional                                  16.485975660000000000000  \n",
              "Nacional                                  18.124679360000000000000  \n",
              "Aguascalientes                            22.913188480000000000000  \n",
              "Aguascalientes                            19.518591750000000000000  \n",
              "Baja California                           21.801482210000000000000  \n",
              "...                                                            ...  \n",
              "Veracruz                                  9.0398099320000000000000  \n",
              "Yucat n                                   14.751582670000000000000  \n",
              "Yucat n                                   17.279509250000000000000  \n",
              "Zacatecas                                 10.962503040000000000000  \n",
              "Zacatecas                                  15.43315830000000000000  \n",
              "\n",
              "[4554 rows x 6 columns]"
            ],
            "text/html": [
              "\n",
              "  <div id=\"df-36a1f06b-e323-415e-a869-988986859657\" class=\"colab-df-container\">\n",
              "    <div>\n",
              "<style scoped>\n",
              "    .dataframe tbody tr th:only-of-type {\n",
              "        vertical-align: middle;\n",
              "    }\n",
              "\n",
              "    .dataframe tbody tr th {\n",
              "        vertical-align: top;\n",
              "    }\n",
              "\n",
              "    .dataframe thead th {\n",
              "        text-align: right;\n",
              "    }\n",
              "</style>\n",
              "<table border=\"1\" class=\"dataframe\">\n",
              "  <thead>\n",
              "    <tr style=\"text-align: right;\">\n",
              "      <th></th>\n",
              "      <th>Periodo</th>\n",
              "      <th>Trimestre</th>\n",
              "      <th>Sexo</th>\n",
              "      <th>Poblacion_ocupada_en_la_industria_manufacturera</th>\n",
              "      <th>Poblaci n_ocupada</th>\n",
              "      <th>Tasa_de_ocupaci n_en_la_industria_manufacturera</th>\n",
              "    </tr>\n",
              "    <tr>\n",
              "      <th>Entidad_Federativa</th>\n",
              "      <th></th>\n",
              "      <th></th>\n",
              "      <th></th>\n",
              "      <th></th>\n",
              "      <th></th>\n",
              "      <th></th>\n",
              "    </tr>\n",
              "  </thead>\n",
              "  <tbody>\n",
              "    <tr>\n",
              "      <th>Nacional</th>\n",
              "      <td>2005</td>\n",
              "      <td>1</td>\n",
              "      <td>Hombres</td>\n",
              "      <td>4384907</td>\n",
              "      <td>26597801</td>\n",
              "      <td>16.485975660000000000000</td>\n",
              "    </tr>\n",
              "    <tr>\n",
              "      <th>Nacional</th>\n",
              "      <td>2005</td>\n",
              "      <td>1</td>\n",
              "      <td>Mujeres</td>\n",
              "      <td>2690296</td>\n",
              "      <td>14843275</td>\n",
              "      <td>18.124679360000000000000</td>\n",
              "    </tr>\n",
              "    <tr>\n",
              "      <th>Aguascalientes</th>\n",
              "      <td>2005</td>\n",
              "      <td>1</td>\n",
              "      <td>Hombres</td>\n",
              "      <td>56407</td>\n",
              "      <td>246177</td>\n",
              "      <td>22.913188480000000000000</td>\n",
              "    </tr>\n",
              "    <tr>\n",
              "      <th>Aguascalientes</th>\n",
              "      <td>2005</td>\n",
              "      <td>1</td>\n",
              "      <td>Mujeres</td>\n",
              "      <td>28430</td>\n",
              "      <td>145656</td>\n",
              "      <td>19.518591750000000000000</td>\n",
              "    </tr>\n",
              "    <tr>\n",
              "      <th>Baja California</th>\n",
              "      <td>2005</td>\n",
              "      <td>1</td>\n",
              "      <td>Hombres</td>\n",
              "      <td>167651</td>\n",
              "      <td>768989</td>\n",
              "      <td>21.801482210000000000000</td>\n",
              "    </tr>\n",
              "    <tr>\n",
              "      <th>...</th>\n",
              "      <td>...</td>\n",
              "      <td>...</td>\n",
              "      <td>...</td>\n",
              "      <td>...</td>\n",
              "      <td>...</td>\n",
              "      <td>...</td>\n",
              "    </tr>\n",
              "    <tr>\n",
              "      <th>Veracruz</th>\n",
              "      <td>2022</td>\n",
              "      <td>1</td>\n",
              "      <td>Mujeres</td>\n",
              "      <td>107640</td>\n",
              "      <td>1190733</td>\n",
              "      <td>9.0398099320000000000000</td>\n",
              "    </tr>\n",
              "    <tr>\n",
              "      <th>Yucat n</th>\n",
              "      <td>2022</td>\n",
              "      <td>1</td>\n",
              "      <td>Hombres</td>\n",
              "      <td>101992</td>\n",
              "      <td>691397</td>\n",
              "      <td>14.751582670000000000000</td>\n",
              "    </tr>\n",
              "    <tr>\n",
              "      <th>Yucat n</th>\n",
              "      <td>2022</td>\n",
              "      <td>1</td>\n",
              "      <td>Mujeres</td>\n",
              "      <td>82759</td>\n",
              "      <td>478943</td>\n",
              "      <td>17.279509250000000000000</td>\n",
              "    </tr>\n",
              "    <tr>\n",
              "      <th>Zacatecas</th>\n",
              "      <td>2022</td>\n",
              "      <td>1</td>\n",
              "      <td>Hombres</td>\n",
              "      <td>44105</td>\n",
              "      <td>402326</td>\n",
              "      <td>10.962503040000000000000</td>\n",
              "    </tr>\n",
              "    <tr>\n",
              "      <th>Zacatecas</th>\n",
              "      <td>2022</td>\n",
              "      <td>1</td>\n",
              "      <td>Mujeres</td>\n",
              "      <td>39472</td>\n",
              "      <td>255761</td>\n",
              "      <td>15.43315830000000000000</td>\n",
              "    </tr>\n",
              "  </tbody>\n",
              "</table>\n",
              "<p>4554 rows × 6 columns</p>\n",
              "</div>\n",
              "    <div class=\"colab-df-buttons\">\n",
              "\n",
              "  <div class=\"colab-df-container\">\n",
              "    <button class=\"colab-df-convert\" onclick=\"convertToInteractive('df-36a1f06b-e323-415e-a869-988986859657')\"\n",
              "            title=\"Convert this dataframe to an interactive table.\"\n",
              "            style=\"display:none;\">\n",
              "\n",
              "  <svg xmlns=\"http://www.w3.org/2000/svg\" height=\"24px\" viewBox=\"0 -960 960 960\">\n",
              "    <path d=\"M120-120v-720h720v720H120Zm60-500h600v-160H180v160Zm220 220h160v-160H400v160Zm0 220h160v-160H400v160ZM180-400h160v-160H180v160Zm440 0h160v-160H620v160ZM180-180h160v-160H180v160Zm440 0h160v-160H620v160Z\"/>\n",
              "  </svg>\n",
              "    </button>\n",
              "\n",
              "  <style>\n",
              "    .colab-df-container {\n",
              "      display:flex;\n",
              "      gap: 12px;\n",
              "    }\n",
              "\n",
              "    .colab-df-convert {\n",
              "      background-color: #E8F0FE;\n",
              "      border: none;\n",
              "      border-radius: 50%;\n",
              "      cursor: pointer;\n",
              "      display: none;\n",
              "      fill: #1967D2;\n",
              "      height: 32px;\n",
              "      padding: 0 0 0 0;\n",
              "      width: 32px;\n",
              "    }\n",
              "\n",
              "    .colab-df-convert:hover {\n",
              "      background-color: #E2EBFA;\n",
              "      box-shadow: 0px 1px 2px rgba(60, 64, 67, 0.3), 0px 1px 3px 1px rgba(60, 64, 67, 0.15);\n",
              "      fill: #174EA6;\n",
              "    }\n",
              "\n",
              "    .colab-df-buttons div {\n",
              "      margin-bottom: 4px;\n",
              "    }\n",
              "\n",
              "    [theme=dark] .colab-df-convert {\n",
              "      background-color: #3B4455;\n",
              "      fill: #D2E3FC;\n",
              "    }\n",
              "\n",
              "    [theme=dark] .colab-df-convert:hover {\n",
              "      background-color: #434B5C;\n",
              "      box-shadow: 0px 1px 3px 1px rgba(0, 0, 0, 0.15);\n",
              "      filter: drop-shadow(0px 1px 2px rgba(0, 0, 0, 0.3));\n",
              "      fill: #FFFFFF;\n",
              "    }\n",
              "  </style>\n",
              "\n",
              "    <script>\n",
              "      const buttonEl =\n",
              "        document.querySelector('#df-36a1f06b-e323-415e-a869-988986859657 button.colab-df-convert');\n",
              "      buttonEl.style.display =\n",
              "        google.colab.kernel.accessAllowed ? 'block' : 'none';\n",
              "\n",
              "      async function convertToInteractive(key) {\n",
              "        const element = document.querySelector('#df-36a1f06b-e323-415e-a869-988986859657');\n",
              "        const dataTable =\n",
              "          await google.colab.kernel.invokeFunction('convertToInteractive',\n",
              "                                                    [key], {});\n",
              "        if (!dataTable) return;\n",
              "\n",
              "        const docLinkHtml = 'Like what you see? Visit the ' +\n",
              "          '<a target=\"_blank\" href=https://colab.research.google.com/notebooks/data_table.ipynb>data table notebook</a>'\n",
              "          + ' to learn more about interactive tables.';\n",
              "        element.innerHTML = '';\n",
              "        dataTable['output_type'] = 'display_data';\n",
              "        await google.colab.output.renderOutput(dataTable, element);\n",
              "        const docLink = document.createElement('div');\n",
              "        docLink.innerHTML = docLinkHtml;\n",
              "        element.appendChild(docLink);\n",
              "      }\n",
              "    </script>\n",
              "  </div>\n",
              "\n",
              "\n",
              "<div id=\"df-41c738ba-5ad1-4baa-8253-326ddd9dbd85\">\n",
              "  <button class=\"colab-df-quickchart\" onclick=\"quickchart('df-41c738ba-5ad1-4baa-8253-326ddd9dbd85')\"\n",
              "            title=\"Suggest charts.\"\n",
              "            style=\"display:none;\">\n",
              "\n",
              "<svg xmlns=\"http://www.w3.org/2000/svg\" height=\"24px\"viewBox=\"0 0 24 24\"\n",
              "     width=\"24px\">\n",
              "    <g>\n",
              "        <path d=\"M19 3H5c-1.1 0-2 .9-2 2v14c0 1.1.9 2 2 2h14c1.1 0 2-.9 2-2V5c0-1.1-.9-2-2-2zM9 17H7v-7h2v7zm4 0h-2V7h2v10zm4 0h-2v-4h2v4z\"/>\n",
              "    </g>\n",
              "</svg>\n",
              "  </button>\n",
              "\n",
              "<style>\n",
              "  .colab-df-quickchart {\n",
              "      --bg-color: #E8F0FE;\n",
              "      --fill-color: #1967D2;\n",
              "      --hover-bg-color: #E2EBFA;\n",
              "      --hover-fill-color: #174EA6;\n",
              "      --disabled-fill-color: #AAA;\n",
              "      --disabled-bg-color: #DDD;\n",
              "  }\n",
              "\n",
              "  [theme=dark] .colab-df-quickchart {\n",
              "      --bg-color: #3B4455;\n",
              "      --fill-color: #D2E3FC;\n",
              "      --hover-bg-color: #434B5C;\n",
              "      --hover-fill-color: #FFFFFF;\n",
              "      --disabled-bg-color: #3B4455;\n",
              "      --disabled-fill-color: #666;\n",
              "  }\n",
              "\n",
              "  .colab-df-quickchart {\n",
              "    background-color: var(--bg-color);\n",
              "    border: none;\n",
              "    border-radius: 50%;\n",
              "    cursor: pointer;\n",
              "    display: none;\n",
              "    fill: var(--fill-color);\n",
              "    height: 32px;\n",
              "    padding: 0;\n",
              "    width: 32px;\n",
              "  }\n",
              "\n",
              "  .colab-df-quickchart:hover {\n",
              "    background-color: var(--hover-bg-color);\n",
              "    box-shadow: 0 1px 2px rgba(60, 64, 67, 0.3), 0 1px 3px 1px rgba(60, 64, 67, 0.15);\n",
              "    fill: var(--button-hover-fill-color);\n",
              "  }\n",
              "\n",
              "  .colab-df-quickchart-complete:disabled,\n",
              "  .colab-df-quickchart-complete:disabled:hover {\n",
              "    background-color: var(--disabled-bg-color);\n",
              "    fill: var(--disabled-fill-color);\n",
              "    box-shadow: none;\n",
              "  }\n",
              "\n",
              "  .colab-df-spinner {\n",
              "    border: 2px solid var(--fill-color);\n",
              "    border-color: transparent;\n",
              "    border-bottom-color: var(--fill-color);\n",
              "    animation:\n",
              "      spin 1s steps(1) infinite;\n",
              "  }\n",
              "\n",
              "  @keyframes spin {\n",
              "    0% {\n",
              "      border-color: transparent;\n",
              "      border-bottom-color: var(--fill-color);\n",
              "      border-left-color: var(--fill-color);\n",
              "    }\n",
              "    20% {\n",
              "      border-color: transparent;\n",
              "      border-left-color: var(--fill-color);\n",
              "      border-top-color: var(--fill-color);\n",
              "    }\n",
              "    30% {\n",
              "      border-color: transparent;\n",
              "      border-left-color: var(--fill-color);\n",
              "      border-top-color: var(--fill-color);\n",
              "      border-right-color: var(--fill-color);\n",
              "    }\n",
              "    40% {\n",
              "      border-color: transparent;\n",
              "      border-right-color: var(--fill-color);\n",
              "      border-top-color: var(--fill-color);\n",
              "    }\n",
              "    60% {\n",
              "      border-color: transparent;\n",
              "      border-right-color: var(--fill-color);\n",
              "    }\n",
              "    80% {\n",
              "      border-color: transparent;\n",
              "      border-right-color: var(--fill-color);\n",
              "      border-bottom-color: var(--fill-color);\n",
              "    }\n",
              "    90% {\n",
              "      border-color: transparent;\n",
              "      border-bottom-color: var(--fill-color);\n",
              "    }\n",
              "  }\n",
              "</style>\n",
              "\n",
              "  <script>\n",
              "    async function quickchart(key) {\n",
              "      const quickchartButtonEl =\n",
              "        document.querySelector('#' + key + ' button');\n",
              "      quickchartButtonEl.disabled = true;  // To prevent multiple clicks.\n",
              "      quickchartButtonEl.classList.add('colab-df-spinner');\n",
              "      try {\n",
              "        const charts = await google.colab.kernel.invokeFunction(\n",
              "            'suggestCharts', [key], {});\n",
              "      } catch (error) {\n",
              "        console.error('Error during call to suggestCharts:', error);\n",
              "      }\n",
              "      quickchartButtonEl.classList.remove('colab-df-spinner');\n",
              "      quickchartButtonEl.classList.add('colab-df-quickchart-complete');\n",
              "    }\n",
              "    (() => {\n",
              "      let quickchartButtonEl =\n",
              "        document.querySelector('#df-41c738ba-5ad1-4baa-8253-326ddd9dbd85 button');\n",
              "      quickchartButtonEl.style.display =\n",
              "        google.colab.kernel.accessAllowed ? 'block' : 'none';\n",
              "    })();\n",
              "  </script>\n",
              "</div>\n",
              "    </div>\n",
              "  </div>\n"
            ]
          },
          "metadata": {},
          "execution_count": 13
        }
      ]
    },
    {
      "cell_type": "code",
      "source": [
        "#Paso 2: Aplicamos Filtro de filas vs columnas\n",
        "filtro4=df.loc[[\"Puebla\",\"Durango\"],[\"Poblacion_ocupada_en_la_industria_manufacturera\"]]\n",
        "filtro4"
      ],
      "metadata": {
        "id": "NLg_a8e0BEX7"
      },
      "execution_count": null,
      "outputs": []
    },
    {
      "cell_type": "code",
      "source": [
        "#Filtro por cabecera\n",
        "filtro5=df.head(10)\n",
        "filtro5"
      ],
      "metadata": {
        "id": "fSjmHASqBzWF"
      },
      "execution_count": null,
      "outputs": []
    },
    {
      "cell_type": "markdown",
      "source": [
        "**FILTROS BÁSICOS PARA VARIABLES CUANTITATIVAS**"
      ],
      "metadata": {
        "id": "z8eV9Au7CEXk"
      }
    },
    {
      "cell_type": "code",
      "source": [
        "#Filtro por comparación\n",
        "filtro6=df[df[\"Periodo\"]>2006]\n",
        "filtro6"
      ],
      "metadata": {
        "id": "gDTUa7GgCDz3"
      },
      "execution_count": null,
      "outputs": []
    },
    {
      "cell_type": "code",
      "source": [
        "#Filtro Y\n",
        "filtro7=df[(df[\"Periodo\"]>2006)&(df[\"Sexo\"]==\"Mujeres\")]\n",
        "filtro7"
      ],
      "metadata": {
        "id": "hxlYCfDaCl6b"
      },
      "execution_count": null,
      "outputs": []
    },
    {
      "cell_type": "code",
      "source": [
        "#Filtro O\n",
        "filtro8=df[(df[\"Periodo\"]>2006)|(df[\"Sexo\"]==\"Mujeres\")]\n",
        "filtro8"
      ],
      "metadata": {
        "id": "4ArRjI0bDBxh"
      },
      "execution_count": null,
      "outputs": []
    },
    {
      "cell_type": "code",
      "source": [
        "#Filtro not\n",
        "filtro9=df[~(df[\"Periodo\"]>=2006)&~(df[\"Sexo\"]==\"Mujeres\")]\n",
        "filtro9"
      ],
      "metadata": {
        "id": "c-QBaTrPDRz_"
      },
      "execution_count": null,
      "outputs": []
    },
    {
      "cell_type": "code",
      "source": [
        "#Convertir archivo filtrado a csv\n",
        "filtro9.to_csv(\"Entregable1.csv\")"
      ],
      "metadata": {
        "id": "YzQE7D8MDphT"
      },
      "execution_count": 20,
      "outputs": []
    },
    {
      "cell_type": "code",
      "source": [
        "#Descargar archivo filtrado a csv\n",
        "from google.colab import files\n",
        "\n",
        "files.download(\"Entregable1.csv\")"
      ],
      "metadata": {
        "colab": {
          "base_uri": "https://localhost:8080/",
          "height": 17
        },
        "id": "-M8ixSszD45L",
        "outputId": "999bb1bc-1df7-4c1f-cb79-4ae682b0e359"
      },
      "execution_count": 21,
      "outputs": [
        {
          "output_type": "display_data",
          "data": {
            "text/plain": [
              "<IPython.core.display.Javascript object>"
            ],
            "application/javascript": [
              "\n",
              "    async function download(id, filename, size) {\n",
              "      if (!google.colab.kernel.accessAllowed) {\n",
              "        return;\n",
              "      }\n",
              "      const div = document.createElement('div');\n",
              "      const label = document.createElement('label');\n",
              "      label.textContent = `Downloading \"${filename}\": `;\n",
              "      div.appendChild(label);\n",
              "      const progress = document.createElement('progress');\n",
              "      progress.max = size;\n",
              "      div.appendChild(progress);\n",
              "      document.body.appendChild(div);\n",
              "\n",
              "      const buffers = [];\n",
              "      let downloaded = 0;\n",
              "\n",
              "      const channel = await google.colab.kernel.comms.open(id);\n",
              "      // Send a message to notify the kernel that we're ready.\n",
              "      channel.send({})\n",
              "\n",
              "      for await (const message of channel.messages) {\n",
              "        // Send a message to notify the kernel that we're ready.\n",
              "        channel.send({})\n",
              "        if (message.buffers) {\n",
              "          for (const buffer of message.buffers) {\n",
              "            buffers.push(buffer);\n",
              "            downloaded += buffer.byteLength;\n",
              "            progress.value = downloaded;\n",
              "          }\n",
              "        }\n",
              "      }\n",
              "      const blob = new Blob(buffers, {type: 'application/binary'});\n",
              "      const a = document.createElement('a');\n",
              "      a.href = window.URL.createObjectURL(blob);\n",
              "      a.download = filename;\n",
              "      div.appendChild(a);\n",
              "      a.click();\n",
              "      div.remove();\n",
              "    }\n",
              "  "
            ]
          },
          "metadata": {}
        },
        {
          "output_type": "display_data",
          "data": {
            "text/plain": [
              "<IPython.core.display.Javascript object>"
            ],
            "application/javascript": [
              "download(\"download_deb913cd-d4ec-4122-9a3d-00607039e59f\", \"Entregable1.csv\", 8568)"
            ]
          },
          "metadata": {}
        }
      ]
    }
  ]
}